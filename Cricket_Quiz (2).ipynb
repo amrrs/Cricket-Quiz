{
 "cells": [
  {
   "cell_type": "markdown",
   "metadata": {},
   "source": [
    "# # Automated Cricket Quiz Generator"
   ]
  },
  {
   "cell_type": "code",
   "execution_count": null,
   "metadata": {
    "collapsed": true
   },
   "outputs": [],
   "source": [
    "from bs4 import BeautifulSoup as bs\n",
    "import urllib2\n",
    "import pandas as pd\n",
    "import random"
   ]
  },
  {
   "cell_type": "code",
   "execution_count": 3,
   "metadata": {
    "collapsed": true
   },
   "outputs": [],
   "source": [
    "url = 'http://stats.espncricinfo.com/ci/content/records/223646.html'"
   ]
  },
  {
   "cell_type": "code",
   "execution_count": 4,
   "metadata": {
    "collapsed": false
   },
   "outputs": [],
   "source": [
    "header = {'User-Agent': 'Mozilla/5.0'} \n",
    "req = urllib2.Request(url,headers=header)\n",
    "content = urllib2.urlopen(req)\n",
    "soup = bs(content)"
   ]
  },
  {
   "cell_type": "code",
   "execution_count": 5,
   "metadata": {
    "collapsed": false,
    "scrolled": true
   },
   "outputs": [],
   "source": [
    "\n",
    "table = soup.find('table',{'class':'engineTable'})\n",
    "\n",
    "header = [th.text for th in table.find('thead').select('th')]\n",
    "\n",
    "empty = []\n",
    "for row in table.findAll('tr',{'class':'data1'}):\n",
    "    newr = []\n",
    "    for td in row.select('td'):\n",
    "        newr.append(td.text)\n",
    "    #print(newr)\n",
    "    empty.append(newr)   \n",
    "\n",
    "score_data = pd.DataFrame(empty,columns=header)\n",
    "#score_data"
   ]
  },
  {
   "cell_type": "code",
   "execution_count": 6,
   "metadata": {
    "collapsed": false
   },
   "outputs": [],
   "source": [
    "\n",
    "def qn_generator(row_index,col_index):\n",
    "    qn_key_f = {'What is the ':['HS','Ave'],'How many ':['Scored by ','Played by ']}\n",
    "    qn_key_b = dict({'Scored by ':['100','50','Runs','0','NO'],'Played by ':['Mat','Inns']})\n",
    "    for key,val in qn_key_f.items():\n",
    "    #print(col_index)\n",
    "        if col_index in val:\n",
    "            #print(col_index)\n",
    "            print 'What is the ' + col_index + ' of ' +score_data.iloc[row_index]['Player'] + '?\\n'\n",
    "            break\n",
    "        else:\n",
    "            for keyb,valb in qn_key_b.items():\n",
    "            #print(valb)\n",
    "                if col_index in valb:\n",
    "                    print 'How many ' + col_index, keyb  +score_data.iloc[row_index]['Player'] + '?\\n'\n",
    "                    break\n",
    "        break           "
   ]
  },
  {
   "cell_type": "code",
   "execution_count": 7,
   "metadata": {
    "collapsed": false
   },
   "outputs": [],
   "source": [
    "def option_generator(row_index,column_index):\n",
    "    \n",
    "    options = [row_index,random.choice(range(len(score_data))),random.choice(range(len(score_data))),random.choice(range(len(score_data)))]\n",
    "    random.shuffle(options)\n",
    "    #print(options)\n",
    "    for i,val in enumerate([score_data.iloc[option][column_index].replace('*','') for option in options]):\n",
    "        print('Option '+str(i+1)+' : '+val)\n",
    "        if val == score_data.iloc[row_index][column_index].replace('*',''):\n",
    "            right_option = i+1\n",
    "    return(right_option)        "
   ]
  },
  {
   "cell_type": "code",
   "execution_count": 14,
   "metadata": {
    "collapsed": false
   },
   "outputs": [
    {
     "name": "stdout",
     "output_type": "stream",
     "text": [
      "Welcome to Cricket Test Quiz\n",
      "How many 0 Scored by A Ranatunga (SL)?\n",
      "\n",
      "Option 1 : 12\n",
      "Option 2 : 12\n",
      "Option 3 : 16\n",
      "Option 4 : 7\n",
      "\n",
      "Enter the right option 1/2/3/4:  3\n",
      "Sorry, Good Luck Next time\n"
     ]
    }
   ],
   "source": [
    "if __name__ == \"__main__\":\n",
    "    row_index = random.choice(range(len(score_data)))\n",
    "    col_index = random.choice(score_data.columns[2:])\n",
    "    print 'Welcome to Cricket Test Quiz'\n",
    "    qn_generator(row_index,col_index)\n",
    "    right_option = str(option_generator(row_index,col_index))\n",
    "    answer = raw_input('\\nEnter the right option 1/2/3/4:  ')\n",
    "    print('You are right' if answer == right_option else 'Sorry, Good Luck Next time')"
   ]
  },
  {
   "cell_type": "markdown",
   "metadata": {},
   "source": [
    "Courtesy: 'http://stats.espncricinfo.com/ci/content/records/223646.html'"
   ]
  }
 ],
 "metadata": {
  "kernelspec": {
   "display_name": "Python 2",
   "language": "python",
   "name": "python2"
  },
  "language_info": {
   "codemirror_mode": {
    "name": "ipython",
    "version": 2
   },
   "file_extension": ".py",
   "mimetype": "text/x-python",
   "name": "python",
   "nbconvert_exporter": "python",
   "pygments_lexer": "ipython2",
   "version": "2.7.12"
  }
 },
 "nbformat": 4,
 "nbformat_minor": 1
}
